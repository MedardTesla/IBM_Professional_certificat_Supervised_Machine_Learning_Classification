{
 "cells": [
  {
   "cell_type": "markdown",
   "metadata": {
    "run_control": {
     "marked": true
    }
   },
   "source": [
    "# Machine Learning Foundation\n",
    "\n",
    "## Course 3, Part a: Logistic Regression LAB\n"
   ]
  },
  {
   "cell_type": "markdown",
   "metadata": {
    "run_control": {
     "marked": true
    }
   },
   "source": [
    "## Introduction\n",
    "\n",
    "We will be using the [Human Activity Recognition with Smartphones](https://archive.ics.uci.edu/ml/datasets/Human+Activity+Recognition+Using+Smartphones?utm_medium=Exinfluencer&utm_source=Exinfluencer&utm_content=000026UJ&utm_term=10006555&utm_id=NA-SkillsNetwork-Channel-SkillsNetworkCoursesIBMML241ENSkillsNetwork31576874-2022-01-01) database, which was built from the recordings of study participants who carried a smartphone with an embedded inertial sensor while performing activities of daily living (ADL). The objective is to classify the activities the participants performed into one of the six following categories: walking, walking upstairs, walking downstairs, sitting, standing, and laying.\n",
    "\n",
    "The following information is provided for each record in the dataset:\n",
    "\n",
    "*   Triaxial acceleration from the accelerometer (total acceleration) and the estimated body acceleration\n",
    "*   Triaxial Angular velocity from the gyroscope\n",
    "*   A 561-feature vector with time and frequency domain variables\n",
    "*   The activity label\n",
    "\n",
    "More information about the features are available on the website linked above.\n"
   ]
  },
  {
   "cell_type": "code",
   "execution_count": 1,
   "metadata": {},
   "outputs": [],
   "source": [
    "def warn(*args, **kwargs):\n",
    "    pass\n",
    "import warnings\n",
    "warnings.warn = warn"
   ]
  },
  {
   "cell_type": "code",
   "execution_count": 2,
   "metadata": {
    "run_control": {
     "marked": true
    }
   },
   "outputs": [],
   "source": [
    "import seaborn as sns, pandas as pd, numpy as np"
   ]
  },
  {
   "cell_type": "markdown",
   "metadata": {
    "run_control": {
     "marked": true
    }
   },
   "source": [
    "## Question 1\n",
    "\n",
    "Import the data and do the following:\n",
    "\n",
    "*   Examine the data types--there are many columns, so it might be wise to use value counts.\n",
    "*   Determine if the floating point values need to be scaled.\n",
    "*   Determine the breakdown of each activity.\n",
    "*   Encode the activity label as an integer.\n"
   ]
  },
  {
   "cell_type": "code",
   "execution_count": 3,
   "metadata": {
    "collapsed": false,
    "jupyter": {
     "outputs_hidden": false
    },
    "run_control": {
     "marked": true
    }
   },
   "outputs": [],
   "source": [
    "### BEGIN SOLUTION\n",
    "data = pd.read_csv(\"data/Human_Activity_Recognition_Using_Smartphones_Data.csv\", sep=',')"
   ]
  },
  {
   "cell_type": "markdown",
   "metadata": {
    "run_control": {
     "marked": true
    }
   },
   "source": [
    "The data columns are all floats except for the activity label.\n"
   ]
  },
  {
   "cell_type": "code",
   "execution_count": 4,
   "metadata": {
    "collapsed": false,
    "jupyter": {
     "outputs_hidden": false
    },
    "run_control": {
     "marked": true
    }
   },
   "outputs": [
    {
     "data": {
      "text/plain": [
       "float64    561\n",
       "object       1\n",
       "dtype: int64"
      ]
     },
     "execution_count": 4,
     "metadata": {},
     "output_type": "execute_result"
    }
   ],
   "source": [
    "data.dtypes.value_counts()"
   ]
  },
  {
   "cell_type": "code",
   "execution_count": 5,
   "metadata": {
    "collapsed": false,
    "jupyter": {
     "outputs_hidden": false
    },
    "run_control": {
     "marked": true
    }
   },
   "outputs": [
    {
     "data": {
      "text/plain": [
       "angle(tBodyGyroJerkMean,gravityMean)    float64\n",
       "angle(X,gravityMean)                    float64\n",
       "angle(Y,gravityMean)                    float64\n",
       "angle(Z,gravityMean)                    float64\n",
       "Activity                                 object\n",
       "dtype: object"
      ]
     },
     "execution_count": 5,
     "metadata": {},
     "output_type": "execute_result"
    }
   ],
   "source": [
    "data.dtypes.tail()"
   ]
  },
  {
   "cell_type": "markdown",
   "metadata": {
    "run_control": {
     "marked": true
    }
   },
   "source": [
    "The data are all scaled from -1 (minimum) to 1.0 (maximum).\n"
   ]
  },
  {
   "cell_type": "code",
   "execution_count": 6,
   "metadata": {
    "collapsed": false,
    "jupyter": {
     "outputs_hidden": false
    },
    "run_control": {
     "marked": true
    }
   },
   "outputs": [
    {
     "data": {
      "text/plain": [
       "-1.0    561\n",
       "dtype: int64"
      ]
     },
     "execution_count": 6,
     "metadata": {},
     "output_type": "execute_result"
    }
   ],
   "source": [
    "data.iloc[:, :-1].min().value_counts()"
   ]
  },
  {
   "cell_type": "code",
   "execution_count": 7,
   "metadata": {
    "collapsed": false,
    "jupyter": {
     "outputs_hidden": false
    },
    "run_control": {
     "marked": true
    }
   },
   "outputs": [
    {
     "data": {
      "text/plain": [
       "1.0    561\n",
       "dtype: int64"
      ]
     },
     "execution_count": 7,
     "metadata": {},
     "output_type": "execute_result"
    }
   ],
   "source": [
    "data.iloc[:, :-1].max().value_counts()"
   ]
  },
  {
   "cell_type": "markdown",
   "metadata": {},
   "source": [
    "Examine the breakdown of activities; they are relatively balanced.\n"
   ]
  },
  {
   "cell_type": "code",
   "execution_count": 8,
   "metadata": {
    "collapsed": false,
    "jupyter": {
     "outputs_hidden": false
    }
   },
   "outputs": [
    {
     "data": {
      "text/plain": [
       "LAYING                1944\n",
       "STANDING              1906\n",
       "SITTING               1777\n",
       "WALKING               1722\n",
       "WALKING_UPSTAIRS      1544\n",
       "WALKING_DOWNSTAIRS    1406\n",
       "Name: Activity, dtype: int64"
      ]
     },
     "execution_count": 8,
     "metadata": {},
     "output_type": "execute_result"
    }
   ],
   "source": [
    "data.Activity.value_counts()"
   ]
  },
  {
   "cell_type": "markdown",
   "metadata": {},
   "source": [
    "Scikit learn classifiers won't accept a sparse matrix for the prediction column. Thus, either `LabelEncoder` needs to be used to convert the activity labels to integers, or if `DictVectorizer` is used, the resulting matrix must be converted to a non-sparse array.\\\n",
    "Use `LabelEncoder` to fit_transform the \"Activity\" column, and look at 5 random values.\n"
   ]
  },
  {
   "cell_type": "code",
   "execution_count": 9,
   "metadata": {
    "collapsed": false,
    "jupyter": {
     "outputs_hidden": false
    }
   },
   "outputs": [
    {
     "data": {
      "text/plain": [
       "9171    4\n",
       "7878    0\n",
       "1208    1\n",
       "6530    0\n",
       "507     5\n",
       "Name: Activity, dtype: int32"
      ]
     },
     "execution_count": 9,
     "metadata": {},
     "output_type": "execute_result"
    }
   ],
   "source": [
    "from sklearn.preprocessing import LabelEncoder\n",
    "\n",
    "le = LabelEncoder()\n",
    "data['Activity'] = le.fit_transform(data.Activity)\n",
    "data['Activity'].sample(5)\n",
    "### END SOLUTION"
   ]
  },
  {
   "cell_type": "markdown",
   "metadata": {},
   "source": [
    "## Question 2\n",
    "\n",
    "*   Calculate the correlations between the dependent variables.\n",
    "*   Create a histogram of the correlation values.\n",
    "*   Identify those that are most correlated (either positively or negatively).\n"
   ]
  },
  {
   "cell_type": "code",
   "execution_count": 10,
   "metadata": {},
   "outputs": [
    {
     "data": {
      "text/plain": [
       "Index(['tBodyAcc-mean()-X', 'tBodyAcc-mean()-Y', 'tBodyAcc-mean()-Z',\n",
       "       'tBodyAcc-std()-X', 'tBodyAcc-std()-Y', 'tBodyAcc-std()-Z',\n",
       "       'tBodyAcc-mad()-X', 'tBodyAcc-mad()-Y', 'tBodyAcc-mad()-Z',\n",
       "       'tBodyAcc-max()-X',\n",
       "       ...\n",
       "       'fBodyBodyGyroJerkMag-meanFreq()', 'fBodyBodyGyroJerkMag-skewness()',\n",
       "       'fBodyBodyGyroJerkMag-kurtosis()', 'angle(tBodyAccMean,gravity)',\n",
       "       'angle(tBodyAccJerkMean),gravityMean)',\n",
       "       'angle(tBodyGyroMean,gravityMean)',\n",
       "       'angle(tBodyGyroJerkMean,gravityMean)', 'angle(X,gravityMean)',\n",
       "       'angle(Y,gravityMean)', 'angle(Z,gravityMean)'],\n",
       "      dtype='object', length=561)"
      ]
     },
     "execution_count": 10,
     "metadata": {},
     "output_type": "execute_result"
    }
   ],
   "source": [
    "feature_cols = data.columns[:-1]\n",
    "corr_values = data[feature_cols].corr()\n",
    "corr_values.index"
   ]
  },
  {
   "cell_type": "code",
   "execution_count": 11,
   "metadata": {},
   "outputs": [],
   "source": [
    "tril_index = np.tril_indices_from(corr_values)\n",
    "corr_arr = np.array(corr_values)\n",
    "corr_arr[tril_index] = np.nan"
   ]
  },
  {
   "cell_type": "code",
   "execution_count": 12,
   "metadata": {},
   "outputs": [
    {
     "data": {
      "text/html": [
       "<div>\n",
       "<style scoped>\n",
       "    .dataframe tbody tr th:only-of-type {\n",
       "        vertical-align: middle;\n",
       "    }\n",
       "\n",
       "    .dataframe tbody tr th {\n",
       "        vertical-align: top;\n",
       "    }\n",
       "\n",
       "    .dataframe thead th {\n",
       "        text-align: right;\n",
       "    }\n",
       "</style>\n",
       "<table border=\"1\" class=\"dataframe\">\n",
       "  <thead>\n",
       "    <tr style=\"text-align: right;\">\n",
       "      <th></th>\n",
       "      <th>0</th>\n",
       "      <th>1</th>\n",
       "      <th>2</th>\n",
       "      <th>3</th>\n",
       "      <th>4</th>\n",
       "      <th>5</th>\n",
       "      <th>6</th>\n",
       "      <th>7</th>\n",
       "      <th>8</th>\n",
       "      <th>9</th>\n",
       "      <th>...</th>\n",
       "      <th>551</th>\n",
       "      <th>552</th>\n",
       "      <th>553</th>\n",
       "      <th>554</th>\n",
       "      <th>555</th>\n",
       "      <th>556</th>\n",
       "      <th>557</th>\n",
       "      <th>558</th>\n",
       "      <th>559</th>\n",
       "      <th>560</th>\n",
       "    </tr>\n",
       "  </thead>\n",
       "  <tbody>\n",
       "    <tr>\n",
       "      <th>0</th>\n",
       "      <td>NaN</td>\n",
       "      <td>0.128037</td>\n",
       "      <td>-0.230302</td>\n",
       "      <td>0.004590</td>\n",
       "      <td>-0.016785</td>\n",
       "      <td>-0.036071</td>\n",
       "      <td>0.010303</td>\n",
       "      <td>-0.017488</td>\n",
       "      <td>-0.038805</td>\n",
       "      <td>0.046943</td>\n",
       "      <td>...</td>\n",
       "      <td>0.029901</td>\n",
       "      <td>-0.006179</td>\n",
       "      <td>-0.002255</td>\n",
       "      <td>-0.552989</td>\n",
       "      <td>0.015754</td>\n",
       "      <td>0.036047</td>\n",
       "      <td>0.034296</td>\n",
       "      <td>-0.041021</td>\n",
       "      <td>0.034053</td>\n",
       "      <td>0.030656</td>\n",
       "    </tr>\n",
       "    <tr>\n",
       "      <th>1</th>\n",
       "      <td>NaN</td>\n",
       "      <td>NaN</td>\n",
       "      <td>-0.029882</td>\n",
       "      <td>-0.046352</td>\n",
       "      <td>-0.046996</td>\n",
       "      <td>-0.054153</td>\n",
       "      <td>-0.045247</td>\n",
       "      <td>-0.047673</td>\n",
       "      <td>-0.055524</td>\n",
       "      <td>-0.039445</td>\n",
       "      <td>...</td>\n",
       "      <td>-0.014402</td>\n",
       "      <td>-0.000649</td>\n",
       "      <td>-0.002842</td>\n",
       "      <td>0.077750</td>\n",
       "      <td>-0.027567</td>\n",
       "      <td>0.013241</td>\n",
       "      <td>0.077627</td>\n",
       "      <td>-0.007513</td>\n",
       "      <td>-0.005616</td>\n",
       "      <td>-0.016233</td>\n",
       "    </tr>\n",
       "    <tr>\n",
       "      <th>2</th>\n",
       "      <td>NaN</td>\n",
       "      <td>NaN</td>\n",
       "      <td>NaN</td>\n",
       "      <td>-0.024185</td>\n",
       "      <td>-0.023745</td>\n",
       "      <td>-0.015632</td>\n",
       "      <td>-0.022872</td>\n",
       "      <td>-0.022966</td>\n",
       "      <td>-0.009577</td>\n",
       "      <td>-0.040218</td>\n",
       "      <td>...</td>\n",
       "      <td>-0.015358</td>\n",
       "      <td>0.023050</td>\n",
       "      <td>0.023122</td>\n",
       "      <td>0.055020</td>\n",
       "      <td>-0.042083</td>\n",
       "      <td>-0.066233</td>\n",
       "      <td>-0.030748</td>\n",
       "      <td>0.003215</td>\n",
       "      <td>-0.012986</td>\n",
       "      <td>-0.028406</td>\n",
       "    </tr>\n",
       "    <tr>\n",
       "      <th>3</th>\n",
       "      <td>NaN</td>\n",
       "      <td>NaN</td>\n",
       "      <td>NaN</td>\n",
       "      <td>NaN</td>\n",
       "      <td>0.922525</td>\n",
       "      <td>0.861910</td>\n",
       "      <td>0.998662</td>\n",
       "      <td>0.916087</td>\n",
       "      <td>0.856497</td>\n",
       "      <td>0.981226</td>\n",
       "      <td>...</td>\n",
       "      <td>-0.068807</td>\n",
       "      <td>0.165552</td>\n",
       "      <td>0.135171</td>\n",
       "      <td>-0.034334</td>\n",
       "      <td>-0.017096</td>\n",
       "      <td>0.027464</td>\n",
       "      <td>-0.027123</td>\n",
       "      <td>-0.374104</td>\n",
       "      <td>0.449425</td>\n",
       "      <td>0.393063</td>\n",
       "    </tr>\n",
       "    <tr>\n",
       "      <th>4</th>\n",
       "      <td>NaN</td>\n",
       "      <td>NaN</td>\n",
       "      <td>NaN</td>\n",
       "      <td>NaN</td>\n",
       "      <td>NaN</td>\n",
       "      <td>0.888259</td>\n",
       "      <td>0.918561</td>\n",
       "      <td>0.997510</td>\n",
       "      <td>0.887052</td>\n",
       "      <td>0.911137</td>\n",
       "      <td>...</td>\n",
       "      <td>-0.109941</td>\n",
       "      <td>0.220279</td>\n",
       "      <td>0.191164</td>\n",
       "      <td>-0.020806</td>\n",
       "      <td>-0.006605</td>\n",
       "      <td>0.001902</td>\n",
       "      <td>-0.015784</td>\n",
       "      <td>-0.381391</td>\n",
       "      <td>0.506106</td>\n",
       "      <td>0.425511</td>\n",
       "    </tr>\n",
       "    <tr>\n",
       "      <th>...</th>\n",
       "      <td>...</td>\n",
       "      <td>...</td>\n",
       "      <td>...</td>\n",
       "      <td>...</td>\n",
       "      <td>...</td>\n",
       "      <td>...</td>\n",
       "      <td>...</td>\n",
       "      <td>...</td>\n",
       "      <td>...</td>\n",
       "      <td>...</td>\n",
       "      <td>...</td>\n",
       "      <td>...</td>\n",
       "      <td>...</td>\n",
       "      <td>...</td>\n",
       "      <td>...</td>\n",
       "      <td>...</td>\n",
       "      <td>...</td>\n",
       "      <td>...</td>\n",
       "      <td>...</td>\n",
       "      <td>...</td>\n",
       "      <td>...</td>\n",
       "    </tr>\n",
       "    <tr>\n",
       "      <th>556</th>\n",
       "      <td>NaN</td>\n",
       "      <td>NaN</td>\n",
       "      <td>NaN</td>\n",
       "      <td>NaN</td>\n",
       "      <td>NaN</td>\n",
       "      <td>NaN</td>\n",
       "      <td>NaN</td>\n",
       "      <td>NaN</td>\n",
       "      <td>NaN</td>\n",
       "      <td>NaN</td>\n",
       "      <td>...</td>\n",
       "      <td>NaN</td>\n",
       "      <td>NaN</td>\n",
       "      <td>NaN</td>\n",
       "      <td>NaN</td>\n",
       "      <td>NaN</td>\n",
       "      <td>NaN</td>\n",
       "      <td>-0.112454</td>\n",
       "      <td>-0.007095</td>\n",
       "      <td>-0.006444</td>\n",
       "      <td>-0.015380</td>\n",
       "    </tr>\n",
       "    <tr>\n",
       "      <th>557</th>\n",
       "      <td>NaN</td>\n",
       "      <td>NaN</td>\n",
       "      <td>NaN</td>\n",
       "      <td>NaN</td>\n",
       "      <td>NaN</td>\n",
       "      <td>NaN</td>\n",
       "      <td>NaN</td>\n",
       "      <td>NaN</td>\n",
       "      <td>NaN</td>\n",
       "      <td>NaN</td>\n",
       "      <td>...</td>\n",
       "      <td>NaN</td>\n",
       "      <td>NaN</td>\n",
       "      <td>NaN</td>\n",
       "      <td>NaN</td>\n",
       "      <td>NaN</td>\n",
       "      <td>NaN</td>\n",
       "      <td>NaN</td>\n",
       "      <td>0.024822</td>\n",
       "      <td>-0.004582</td>\n",
       "      <td>-0.012549</td>\n",
       "    </tr>\n",
       "    <tr>\n",
       "      <th>558</th>\n",
       "      <td>NaN</td>\n",
       "      <td>NaN</td>\n",
       "      <td>NaN</td>\n",
       "      <td>NaN</td>\n",
       "      <td>NaN</td>\n",
       "      <td>NaN</td>\n",
       "      <td>NaN</td>\n",
       "      <td>NaN</td>\n",
       "      <td>NaN</td>\n",
       "      <td>NaN</td>\n",
       "      <td>...</td>\n",
       "      <td>NaN</td>\n",
       "      <td>NaN</td>\n",
       "      <td>NaN</td>\n",
       "      <td>NaN</td>\n",
       "      <td>NaN</td>\n",
       "      <td>NaN</td>\n",
       "      <td>NaN</td>\n",
       "      <td>NaN</td>\n",
       "      <td>-0.748249</td>\n",
       "      <td>-0.635231</td>\n",
       "    </tr>\n",
       "    <tr>\n",
       "      <th>559</th>\n",
       "      <td>NaN</td>\n",
       "      <td>NaN</td>\n",
       "      <td>NaN</td>\n",
       "      <td>NaN</td>\n",
       "      <td>NaN</td>\n",
       "      <td>NaN</td>\n",
       "      <td>NaN</td>\n",
       "      <td>NaN</td>\n",
       "      <td>NaN</td>\n",
       "      <td>NaN</td>\n",
       "      <td>...</td>\n",
       "      <td>NaN</td>\n",
       "      <td>NaN</td>\n",
       "      <td>NaN</td>\n",
       "      <td>NaN</td>\n",
       "      <td>NaN</td>\n",
       "      <td>NaN</td>\n",
       "      <td>NaN</td>\n",
       "      <td>NaN</td>\n",
       "      <td>NaN</td>\n",
       "      <td>0.545614</td>\n",
       "    </tr>\n",
       "    <tr>\n",
       "      <th>560</th>\n",
       "      <td>NaN</td>\n",
       "      <td>NaN</td>\n",
       "      <td>NaN</td>\n",
       "      <td>NaN</td>\n",
       "      <td>NaN</td>\n",
       "      <td>NaN</td>\n",
       "      <td>NaN</td>\n",
       "      <td>NaN</td>\n",
       "      <td>NaN</td>\n",
       "      <td>NaN</td>\n",
       "      <td>...</td>\n",
       "      <td>NaN</td>\n",
       "      <td>NaN</td>\n",
       "      <td>NaN</td>\n",
       "      <td>NaN</td>\n",
       "      <td>NaN</td>\n",
       "      <td>NaN</td>\n",
       "      <td>NaN</td>\n",
       "      <td>NaN</td>\n",
       "      <td>NaN</td>\n",
       "      <td>NaN</td>\n",
       "    </tr>\n",
       "  </tbody>\n",
       "</table>\n",
       "<p>561 rows × 561 columns</p>\n",
       "</div>"
      ],
      "text/plain": [
       "     0         1         2         3         4         5         6    \\\n",
       "0    NaN  0.128037 -0.230302  0.004590 -0.016785 -0.036071  0.010303   \n",
       "1    NaN       NaN -0.029882 -0.046352 -0.046996 -0.054153 -0.045247   \n",
       "2    NaN       NaN       NaN -0.024185 -0.023745 -0.015632 -0.022872   \n",
       "3    NaN       NaN       NaN       NaN  0.922525  0.861910  0.998662   \n",
       "4    NaN       NaN       NaN       NaN       NaN  0.888259  0.918561   \n",
       "..   ...       ...       ...       ...       ...       ...       ...   \n",
       "556  NaN       NaN       NaN       NaN       NaN       NaN       NaN   \n",
       "557  NaN       NaN       NaN       NaN       NaN       NaN       NaN   \n",
       "558  NaN       NaN       NaN       NaN       NaN       NaN       NaN   \n",
       "559  NaN       NaN       NaN       NaN       NaN       NaN       NaN   \n",
       "560  NaN       NaN       NaN       NaN       NaN       NaN       NaN   \n",
       "\n",
       "          7         8         9    ...       551       552       553  \\\n",
       "0   -0.017488 -0.038805  0.046943  ...  0.029901 -0.006179 -0.002255   \n",
       "1   -0.047673 -0.055524 -0.039445  ... -0.014402 -0.000649 -0.002842   \n",
       "2   -0.022966 -0.009577 -0.040218  ... -0.015358  0.023050  0.023122   \n",
       "3    0.916087  0.856497  0.981226  ... -0.068807  0.165552  0.135171   \n",
       "4    0.997510  0.887052  0.911137  ... -0.109941  0.220279  0.191164   \n",
       "..        ...       ...       ...  ...       ...       ...       ...   \n",
       "556       NaN       NaN       NaN  ...       NaN       NaN       NaN   \n",
       "557       NaN       NaN       NaN  ...       NaN       NaN       NaN   \n",
       "558       NaN       NaN       NaN  ...       NaN       NaN       NaN   \n",
       "559       NaN       NaN       NaN  ...       NaN       NaN       NaN   \n",
       "560       NaN       NaN       NaN  ...       NaN       NaN       NaN   \n",
       "\n",
       "          554       555       556       557       558       559       560  \n",
       "0   -0.552989  0.015754  0.036047  0.034296 -0.041021  0.034053  0.030656  \n",
       "1    0.077750 -0.027567  0.013241  0.077627 -0.007513 -0.005616 -0.016233  \n",
       "2    0.055020 -0.042083 -0.066233 -0.030748  0.003215 -0.012986 -0.028406  \n",
       "3   -0.034334 -0.017096  0.027464 -0.027123 -0.374104  0.449425  0.393063  \n",
       "4   -0.020806 -0.006605  0.001902 -0.015784 -0.381391  0.506106  0.425511  \n",
       "..        ...       ...       ...       ...       ...       ...       ...  \n",
       "556       NaN       NaN       NaN -0.112454 -0.007095 -0.006444 -0.015380  \n",
       "557       NaN       NaN       NaN       NaN  0.024822 -0.004582 -0.012549  \n",
       "558       NaN       NaN       NaN       NaN       NaN -0.748249 -0.635231  \n",
       "559       NaN       NaN       NaN       NaN       NaN       NaN  0.545614  \n",
       "560       NaN       NaN       NaN       NaN       NaN       NaN       NaN  \n",
       "\n",
       "[561 rows x 561 columns]"
      ]
     },
     "execution_count": 12,
     "metadata": {},
     "output_type": "execute_result"
    }
   ],
   "source": [
    "pd.DataFrame(corr_arr)"
   ]
  },
  {
   "cell_type": "code",
   "execution_count": 13,
   "metadata": {},
   "outputs": [
    {
     "data": {
      "text/html": [
       "<div>\n",
       "<style scoped>\n",
       "    .dataframe tbody tr th:only-of-type {\n",
       "        vertical-align: middle;\n",
       "    }\n",
       "\n",
       "    .dataframe tbody tr th {\n",
       "        vertical-align: top;\n",
       "    }\n",
       "\n",
       "    .dataframe thead th {\n",
       "        text-align: right;\n",
       "    }\n",
       "</style>\n",
       "<table border=\"1\" class=\"dataframe\">\n",
       "  <thead>\n",
       "    <tr style=\"text-align: right;\">\n",
       "      <th></th>\n",
       "      <th>tBodyAcc-mean()-X</th>\n",
       "      <th>tBodyAcc-mean()-Y</th>\n",
       "      <th>tBodyAcc-mean()-Z</th>\n",
       "      <th>tBodyAcc-std()-X</th>\n",
       "      <th>tBodyAcc-std()-Y</th>\n",
       "      <th>tBodyAcc-std()-Z</th>\n",
       "      <th>tBodyAcc-mad()-X</th>\n",
       "      <th>tBodyAcc-mad()-Y</th>\n",
       "      <th>tBodyAcc-mad()-Z</th>\n",
       "      <th>tBodyAcc-max()-X</th>\n",
       "      <th>...</th>\n",
       "      <th>fBodyBodyGyroJerkMag-meanFreq()</th>\n",
       "      <th>fBodyBodyGyroJerkMag-skewness()</th>\n",
       "      <th>fBodyBodyGyroJerkMag-kurtosis()</th>\n",
       "      <th>angle(tBodyAccMean,gravity)</th>\n",
       "      <th>angle(tBodyAccJerkMean),gravityMean)</th>\n",
       "      <th>angle(tBodyGyroMean,gravityMean)</th>\n",
       "      <th>angle(tBodyGyroJerkMean,gravityMean)</th>\n",
       "      <th>angle(X,gravityMean)</th>\n",
       "      <th>angle(Y,gravityMean)</th>\n",
       "      <th>angle(Z,gravityMean)</th>\n",
       "    </tr>\n",
       "  </thead>\n",
       "  <tbody>\n",
       "    <tr>\n",
       "      <th>tBodyAcc-mean()-X</th>\n",
       "      <td>NaN</td>\n",
       "      <td>0.128037</td>\n",
       "      <td>-0.230302</td>\n",
       "      <td>0.004590</td>\n",
       "      <td>-0.016785</td>\n",
       "      <td>-0.036071</td>\n",
       "      <td>0.010303</td>\n",
       "      <td>-0.017488</td>\n",
       "      <td>-0.038805</td>\n",
       "      <td>0.046943</td>\n",
       "      <td>...</td>\n",
       "      <td>0.029901</td>\n",
       "      <td>-0.006179</td>\n",
       "      <td>-0.002255</td>\n",
       "      <td>-0.552989</td>\n",
       "      <td>0.015754</td>\n",
       "      <td>0.036047</td>\n",
       "      <td>0.034296</td>\n",
       "      <td>-0.041021</td>\n",
       "      <td>0.034053</td>\n",
       "      <td>0.030656</td>\n",
       "    </tr>\n",
       "    <tr>\n",
       "      <th>tBodyAcc-mean()-Y</th>\n",
       "      <td>NaN</td>\n",
       "      <td>NaN</td>\n",
       "      <td>-0.029882</td>\n",
       "      <td>-0.046352</td>\n",
       "      <td>-0.046996</td>\n",
       "      <td>-0.054153</td>\n",
       "      <td>-0.045247</td>\n",
       "      <td>-0.047673</td>\n",
       "      <td>-0.055524</td>\n",
       "      <td>-0.039445</td>\n",
       "      <td>...</td>\n",
       "      <td>-0.014402</td>\n",
       "      <td>-0.000649</td>\n",
       "      <td>-0.002842</td>\n",
       "      <td>0.077750</td>\n",
       "      <td>-0.027567</td>\n",
       "      <td>0.013241</td>\n",
       "      <td>0.077627</td>\n",
       "      <td>-0.007513</td>\n",
       "      <td>-0.005616</td>\n",
       "      <td>-0.016233</td>\n",
       "    </tr>\n",
       "    <tr>\n",
       "      <th>tBodyAcc-mean()-Z</th>\n",
       "      <td>NaN</td>\n",
       "      <td>NaN</td>\n",
       "      <td>NaN</td>\n",
       "      <td>-0.024185</td>\n",
       "      <td>-0.023745</td>\n",
       "      <td>-0.015632</td>\n",
       "      <td>-0.022872</td>\n",
       "      <td>-0.022966</td>\n",
       "      <td>-0.009577</td>\n",
       "      <td>-0.040218</td>\n",
       "      <td>...</td>\n",
       "      <td>-0.015358</td>\n",
       "      <td>0.023050</td>\n",
       "      <td>0.023122</td>\n",
       "      <td>0.055020</td>\n",
       "      <td>-0.042083</td>\n",
       "      <td>-0.066233</td>\n",
       "      <td>-0.030748</td>\n",
       "      <td>0.003215</td>\n",
       "      <td>-0.012986</td>\n",
       "      <td>-0.028406</td>\n",
       "    </tr>\n",
       "    <tr>\n",
       "      <th>tBodyAcc-std()-X</th>\n",
       "      <td>NaN</td>\n",
       "      <td>NaN</td>\n",
       "      <td>NaN</td>\n",
       "      <td>NaN</td>\n",
       "      <td>0.922525</td>\n",
       "      <td>0.861910</td>\n",
       "      <td>0.998662</td>\n",
       "      <td>0.916087</td>\n",
       "      <td>0.856497</td>\n",
       "      <td>0.981226</td>\n",
       "      <td>...</td>\n",
       "      <td>-0.068807</td>\n",
       "      <td>0.165552</td>\n",
       "      <td>0.135171</td>\n",
       "      <td>-0.034334</td>\n",
       "      <td>-0.017096</td>\n",
       "      <td>0.027464</td>\n",
       "      <td>-0.027123</td>\n",
       "      <td>-0.374104</td>\n",
       "      <td>0.449425</td>\n",
       "      <td>0.393063</td>\n",
       "    </tr>\n",
       "    <tr>\n",
       "      <th>tBodyAcc-std()-Y</th>\n",
       "      <td>NaN</td>\n",
       "      <td>NaN</td>\n",
       "      <td>NaN</td>\n",
       "      <td>NaN</td>\n",
       "      <td>NaN</td>\n",
       "      <td>0.888259</td>\n",
       "      <td>0.918561</td>\n",
       "      <td>0.997510</td>\n",
       "      <td>0.887052</td>\n",
       "      <td>0.911137</td>\n",
       "      <td>...</td>\n",
       "      <td>-0.109941</td>\n",
       "      <td>0.220279</td>\n",
       "      <td>0.191164</td>\n",
       "      <td>-0.020806</td>\n",
       "      <td>-0.006605</td>\n",
       "      <td>0.001902</td>\n",
       "      <td>-0.015784</td>\n",
       "      <td>-0.381391</td>\n",
       "      <td>0.506106</td>\n",
       "      <td>0.425511</td>\n",
       "    </tr>\n",
       "  </tbody>\n",
       "</table>\n",
       "<p>5 rows × 561 columns</p>\n",
       "</div>"
      ],
      "text/plain": [
       "                   tBodyAcc-mean()-X  tBodyAcc-mean()-Y  tBodyAcc-mean()-Z  \\\n",
       "tBodyAcc-mean()-X                NaN           0.128037          -0.230302   \n",
       "tBodyAcc-mean()-Y                NaN                NaN          -0.029882   \n",
       "tBodyAcc-mean()-Z                NaN                NaN                NaN   \n",
       "tBodyAcc-std()-X                 NaN                NaN                NaN   \n",
       "tBodyAcc-std()-Y                 NaN                NaN                NaN   \n",
       "\n",
       "                   tBodyAcc-std()-X  tBodyAcc-std()-Y  tBodyAcc-std()-Z  \\\n",
       "tBodyAcc-mean()-X          0.004590         -0.016785         -0.036071   \n",
       "tBodyAcc-mean()-Y         -0.046352         -0.046996         -0.054153   \n",
       "tBodyAcc-mean()-Z         -0.024185         -0.023745         -0.015632   \n",
       "tBodyAcc-std()-X                NaN          0.922525          0.861910   \n",
       "tBodyAcc-std()-Y                NaN               NaN          0.888259   \n",
       "\n",
       "                   tBodyAcc-mad()-X  tBodyAcc-mad()-Y  tBodyAcc-mad()-Z  \\\n",
       "tBodyAcc-mean()-X          0.010303         -0.017488         -0.038805   \n",
       "tBodyAcc-mean()-Y         -0.045247         -0.047673         -0.055524   \n",
       "tBodyAcc-mean()-Z         -0.022872         -0.022966         -0.009577   \n",
       "tBodyAcc-std()-X           0.998662          0.916087          0.856497   \n",
       "tBodyAcc-std()-Y           0.918561          0.997510          0.887052   \n",
       "\n",
       "                   tBodyAcc-max()-X  ...  fBodyBodyGyroJerkMag-meanFreq()  \\\n",
       "tBodyAcc-mean()-X          0.046943  ...                         0.029901   \n",
       "tBodyAcc-mean()-Y         -0.039445  ...                        -0.014402   \n",
       "tBodyAcc-mean()-Z         -0.040218  ...                        -0.015358   \n",
       "tBodyAcc-std()-X           0.981226  ...                        -0.068807   \n",
       "tBodyAcc-std()-Y           0.911137  ...                        -0.109941   \n",
       "\n",
       "                   fBodyBodyGyroJerkMag-skewness()  \\\n",
       "tBodyAcc-mean()-X                        -0.006179   \n",
       "tBodyAcc-mean()-Y                        -0.000649   \n",
       "tBodyAcc-mean()-Z                         0.023050   \n",
       "tBodyAcc-std()-X                          0.165552   \n",
       "tBodyAcc-std()-Y                          0.220279   \n",
       "\n",
       "                   fBodyBodyGyroJerkMag-kurtosis()  \\\n",
       "tBodyAcc-mean()-X                        -0.002255   \n",
       "tBodyAcc-mean()-Y                        -0.002842   \n",
       "tBodyAcc-mean()-Z                         0.023122   \n",
       "tBodyAcc-std()-X                          0.135171   \n",
       "tBodyAcc-std()-Y                          0.191164   \n",
       "\n",
       "                   angle(tBodyAccMean,gravity)  \\\n",
       "tBodyAcc-mean()-X                    -0.552989   \n",
       "tBodyAcc-mean()-Y                     0.077750   \n",
       "tBodyAcc-mean()-Z                     0.055020   \n",
       "tBodyAcc-std()-X                     -0.034334   \n",
       "tBodyAcc-std()-Y                     -0.020806   \n",
       "\n",
       "                   angle(tBodyAccJerkMean),gravityMean)  \\\n",
       "tBodyAcc-mean()-X                              0.015754   \n",
       "tBodyAcc-mean()-Y                             -0.027567   \n",
       "tBodyAcc-mean()-Z                             -0.042083   \n",
       "tBodyAcc-std()-X                              -0.017096   \n",
       "tBodyAcc-std()-Y                              -0.006605   \n",
       "\n",
       "                   angle(tBodyGyroMean,gravityMean)  \\\n",
       "tBodyAcc-mean()-X                          0.036047   \n",
       "tBodyAcc-mean()-Y                          0.013241   \n",
       "tBodyAcc-mean()-Z                         -0.066233   \n",
       "tBodyAcc-std()-X                           0.027464   \n",
       "tBodyAcc-std()-Y                           0.001902   \n",
       "\n",
       "                   angle(tBodyGyroJerkMean,gravityMean)  angle(X,gravityMean)  \\\n",
       "tBodyAcc-mean()-X                              0.034296             -0.041021   \n",
       "tBodyAcc-mean()-Y                              0.077627             -0.007513   \n",
       "tBodyAcc-mean()-Z                             -0.030748              0.003215   \n",
       "tBodyAcc-std()-X                              -0.027123             -0.374104   \n",
       "tBodyAcc-std()-Y                              -0.015784             -0.381391   \n",
       "\n",
       "                   angle(Y,gravityMean)  angle(Z,gravityMean)  \n",
       "tBodyAcc-mean()-X              0.034053              0.030656  \n",
       "tBodyAcc-mean()-Y             -0.005616             -0.016233  \n",
       "tBodyAcc-mean()-Z             -0.012986             -0.028406  \n",
       "tBodyAcc-std()-X               0.449425              0.393063  \n",
       "tBodyAcc-std()-Y               0.506106              0.425511  \n",
       "\n",
       "[5 rows x 561 columns]"
      ]
     },
     "execution_count": 13,
     "metadata": {},
     "output_type": "execute_result"
    }
   ],
   "source": [
    "corr_values = pd.DataFrame(corr_arr, columns=corr_values.columns, index = corr_values.index)\n",
    "corr_values.head()"
   ]
  },
  {
   "cell_type": "code",
   "execution_count": 14,
   "metadata": {},
   "outputs": [
    {
     "data": {
      "text/html": [
       "<div>\n",
       "<style scoped>\n",
       "    .dataframe tbody tr th:only-of-type {\n",
       "        vertical-align: middle;\n",
       "    }\n",
       "\n",
       "    .dataframe tbody tr th {\n",
       "        vertical-align: top;\n",
       "    }\n",
       "\n",
       "    .dataframe thead th {\n",
       "        text-align: right;\n",
       "    }\n",
       "</style>\n",
       "<table border=\"1\" class=\"dataframe\">\n",
       "  <thead>\n",
       "    <tr style=\"text-align: right;\">\n",
       "      <th></th>\n",
       "      <th>level_0</th>\n",
       "      <th>level_1</th>\n",
       "      <th>0</th>\n",
       "    </tr>\n",
       "  </thead>\n",
       "  <tbody>\n",
       "    <tr>\n",
       "      <th>0</th>\n",
       "      <td>tBodyAcc-mean()-X</td>\n",
       "      <td>tBodyAcc-mean()-Y</td>\n",
       "      <td>0.128037</td>\n",
       "    </tr>\n",
       "    <tr>\n",
       "      <th>1</th>\n",
       "      <td>tBodyAcc-mean()-X</td>\n",
       "      <td>tBodyAcc-mean()-Z</td>\n",
       "      <td>-0.230302</td>\n",
       "    </tr>\n",
       "    <tr>\n",
       "      <th>2</th>\n",
       "      <td>tBodyAcc-mean()-X</td>\n",
       "      <td>tBodyAcc-std()-X</td>\n",
       "      <td>0.004590</td>\n",
       "    </tr>\n",
       "    <tr>\n",
       "      <th>3</th>\n",
       "      <td>tBodyAcc-mean()-X</td>\n",
       "      <td>tBodyAcc-std()-Y</td>\n",
       "      <td>-0.016785</td>\n",
       "    </tr>\n",
       "    <tr>\n",
       "      <th>4</th>\n",
       "      <td>tBodyAcc-mean()-X</td>\n",
       "      <td>tBodyAcc-std()-Z</td>\n",
       "      <td>-0.036071</td>\n",
       "    </tr>\n",
       "    <tr>\n",
       "      <th>...</th>\n",
       "      <td>...</td>\n",
       "      <td>...</td>\n",
       "      <td>...</td>\n",
       "    </tr>\n",
       "    <tr>\n",
       "      <th>157075</th>\n",
       "      <td>angle(tBodyGyroJerkMean,gravityMean)</td>\n",
       "      <td>angle(Y,gravityMean)</td>\n",
       "      <td>-0.004582</td>\n",
       "    </tr>\n",
       "    <tr>\n",
       "      <th>157076</th>\n",
       "      <td>angle(tBodyGyroJerkMean,gravityMean)</td>\n",
       "      <td>angle(Z,gravityMean)</td>\n",
       "      <td>-0.012549</td>\n",
       "    </tr>\n",
       "    <tr>\n",
       "      <th>157077</th>\n",
       "      <td>angle(X,gravityMean)</td>\n",
       "      <td>angle(Y,gravityMean)</td>\n",
       "      <td>-0.748249</td>\n",
       "    </tr>\n",
       "    <tr>\n",
       "      <th>157078</th>\n",
       "      <td>angle(X,gravityMean)</td>\n",
       "      <td>angle(Z,gravityMean)</td>\n",
       "      <td>-0.635231</td>\n",
       "    </tr>\n",
       "    <tr>\n",
       "      <th>157079</th>\n",
       "      <td>angle(Y,gravityMean)</td>\n",
       "      <td>angle(Z,gravityMean)</td>\n",
       "      <td>0.545614</td>\n",
       "    </tr>\n",
       "  </tbody>\n",
       "</table>\n",
       "<p>157080 rows × 3 columns</p>\n",
       "</div>"
      ],
      "text/plain": [
       "                                     level_0               level_1         0\n",
       "0                          tBodyAcc-mean()-X     tBodyAcc-mean()-Y  0.128037\n",
       "1                          tBodyAcc-mean()-X     tBodyAcc-mean()-Z -0.230302\n",
       "2                          tBodyAcc-mean()-X      tBodyAcc-std()-X  0.004590\n",
       "3                          tBodyAcc-mean()-X      tBodyAcc-std()-Y -0.016785\n",
       "4                          tBodyAcc-mean()-X      tBodyAcc-std()-Z -0.036071\n",
       "...                                      ...                   ...       ...\n",
       "157075  angle(tBodyGyroJerkMean,gravityMean)  angle(Y,gravityMean) -0.004582\n",
       "157076  angle(tBodyGyroJerkMean,gravityMean)  angle(Z,gravityMean) -0.012549\n",
       "157077                  angle(X,gravityMean)  angle(Y,gravityMean) -0.748249\n",
       "157078                  angle(X,gravityMean)  angle(Z,gravityMean) -0.635231\n",
       "157079                  angle(Y,gravityMean)  angle(Z,gravityMean)  0.545614\n",
       "\n",
       "[157080 rows x 3 columns]"
      ]
     },
     "execution_count": 14,
     "metadata": {},
     "output_type": "execute_result"
    }
   ],
   "source": [
    "corr_values.stack().to_frame().reset_index()"
   ]
  },
  {
   "cell_type": "code",
   "execution_count": 15,
   "metadata": {},
   "outputs": [],
   "source": [
    "### BEGIN SOLUTION\n",
    "# Calculate the correlation values\n",
    "feature_cols = data.columns[:-1]\n",
    "corr_values = data[feature_cols].corr()\n",
    "\n",
    "# Simplify by emptying all the data below the diagonal\n",
    "tril_index = np.tril_indices_from(corr_values)\n",
    "\n",
    "# Make the unused values NaNs\n",
    "for coord in zip(*tril_index):\n",
    "    corr_values.iloc[coord[0], coord[1]] = np.NaN\n",
    "    \n",
    "# Stack the data and convert to a data frame\n",
    "corr_values = (corr_values\n",
    "               .stack()\n",
    "               .to_frame()\n",
    "               .reset_index()\n",
    "               .rename(columns={'level_0':'feature1',\n",
    "                                'level_1':'feature2',\n",
    "                                0:'correlation'}))\n",
    "\n",
    "# Get the absolute values for sorting\n",
    "corr_values['abs_correlation'] = corr_values.correlation.abs()"
   ]
  },
  {
   "cell_type": "markdown",
   "metadata": {},
   "source": [
    "A histogram of the absolute value correlations.\n"
   ]
  },
  {
   "cell_type": "code",
   "execution_count": 16,
   "metadata": {},
   "outputs": [],
   "source": [
    "import matplotlib.pyplot as plt\n",
    "import seaborn as sns\n",
    "%matplotlib inline"
   ]
  },
  {
   "cell_type": "code",
   "execution_count": 17,
   "metadata": {
    "collapsed": false,
    "jupyter": {
     "outputs_hidden": false
    }
   },
   "outputs": [
    {
     "data": {
      "image/png": "[encoded data removed]",
      "text/plain": [
       "<Figure size 1200x800 with 1 Axes>"
      ]
     },
     "metadata": {},
     "output_type": "display_data"
    }
   ],
   "source": [
    "sns.set_context('talk')\n",
    "sns.set_style('white')\n",
    "\n",
    "ax = corr_values.abs_correlation.hist(bins=50, figsize=(12, 8))\n",
    "ax.set(xlabel='Absolute Correlation', ylabel='Frequency');"
   ]
  },
  {
   "cell_type": "code",
   "execution_count": 18,
   "metadata": {
    "collapsed": false,
    "jupyter": {
     "outputs_hidden": false
    }
   },
   "outputs": [
    {
     "data": {
      "text/html": [
       "<div>\n",
       "<style scoped>\n",
       "    .dataframe tbody tr th:only-of-type {\n",
       "        vertical-align: middle;\n",
       "    }\n",
       "\n",
       "    .dataframe tbody tr th {\n",
       "        vertical-align: top;\n",
       "    }\n",
       "\n",
       "    .dataframe thead th {\n",
       "        text-align: right;\n",
       "    }\n",
       "</style>\n",
       "<table border=\"1\" class=\"dataframe\">\n",
       "  <thead>\n",
       "    <tr style=\"text-align: right;\">\n",
       "      <th></th>\n",
       "      <th>feature1</th>\n",
       "      <th>feature2</th>\n",
       "      <th>correlation</th>\n",
       "      <th>abs_correlation</th>\n",
       "    </tr>\n",
       "  </thead>\n",
       "  <tbody>\n",
       "    <tr>\n",
       "      <th>156894</th>\n",
       "      <td>fBodyBodyGyroJerkMag-mean()</td>\n",
       "      <td>fBodyBodyGyroJerkMag-sma()</td>\n",
       "      <td>1.000000</td>\n",
       "      <td>1.000000</td>\n",
       "    </tr>\n",
       "    <tr>\n",
       "      <th>93902</th>\n",
       "      <td>tBodyAccMag-sma()</td>\n",
       "      <td>tGravityAccMag-sma()</td>\n",
       "      <td>1.000000</td>\n",
       "      <td>1.000000</td>\n",
       "    </tr>\n",
       "    <tr>\n",
       "      <th>101139</th>\n",
       "      <td>tBodyAccJerkMag-mean()</td>\n",
       "      <td>tBodyAccJerkMag-sma()</td>\n",
       "      <td>1.000000</td>\n",
       "      <td>1.000000</td>\n",
       "    </tr>\n",
       "    <tr>\n",
       "      <th>96706</th>\n",
       "      <td>tGravityAccMag-mean()</td>\n",
       "      <td>tGravityAccMag-sma()</td>\n",
       "      <td>1.000000</td>\n",
       "      <td>1.000000</td>\n",
       "    </tr>\n",
       "    <tr>\n",
       "      <th>94257</th>\n",
       "      <td>tBodyAccMag-energy()</td>\n",
       "      <td>tGravityAccMag-energy()</td>\n",
       "      <td>1.000000</td>\n",
       "      <td>1.000000</td>\n",
       "    </tr>\n",
       "    <tr>\n",
       "      <th>...</th>\n",
       "      <td>...</td>\n",
       "      <td>...</td>\n",
       "      <td>...</td>\n",
       "      <td>...</td>\n",
       "    </tr>\n",
       "    <tr>\n",
       "      <th>22657</th>\n",
       "      <td>tGravityAcc-mean()-Y</td>\n",
       "      <td>angle(Y,gravityMean)</td>\n",
       "      <td>-0.993425</td>\n",
       "      <td>0.993425</td>\n",
       "    </tr>\n",
       "    <tr>\n",
       "      <th>39225</th>\n",
       "      <td>tGravityAcc-arCoeff()-Z,3</td>\n",
       "      <td>tGravityAcc-arCoeff()-Z,4</td>\n",
       "      <td>-0.994267</td>\n",
       "      <td>0.994267</td>\n",
       "    </tr>\n",
       "    <tr>\n",
       "      <th>38739</th>\n",
       "      <td>tGravityAcc-arCoeff()-Z,2</td>\n",
       "      <td>tGravityAcc-arCoeff()-Z,3</td>\n",
       "      <td>-0.994628</td>\n",
       "      <td>0.994628</td>\n",
       "    </tr>\n",
       "    <tr>\n",
       "      <th>23176</th>\n",
       "      <td>tGravityAcc-mean()-Z</td>\n",
       "      <td>angle(Z,gravityMean)</td>\n",
       "      <td>-0.994764</td>\n",
       "      <td>0.994764</td>\n",
       "    </tr>\n",
       "    <tr>\n",
       "      <th>38252</th>\n",
       "      <td>tGravityAcc-arCoeff()-Z,1</td>\n",
       "      <td>tGravityAcc-arCoeff()-Z,2</td>\n",
       "      <td>-0.995195</td>\n",
       "      <td>0.995195</td>\n",
       "    </tr>\n",
       "  </tbody>\n",
       "</table>\n",
       "<p>22815 rows × 4 columns</p>\n",
       "</div>"
      ],
      "text/plain": [
       "                           feature1                    feature2  correlation  \\\n",
       "156894  fBodyBodyGyroJerkMag-mean()  fBodyBodyGyroJerkMag-sma()     1.000000   \n",
       "93902             tBodyAccMag-sma()        tGravityAccMag-sma()     1.000000   \n",
       "101139       tBodyAccJerkMag-mean()       tBodyAccJerkMag-sma()     1.000000   \n",
       "96706         tGravityAccMag-mean()        tGravityAccMag-sma()     1.000000   \n",
       "94257          tBodyAccMag-energy()     tGravityAccMag-energy()     1.000000   \n",
       "...                             ...                         ...          ...   \n",
       "22657          tGravityAcc-mean()-Y        angle(Y,gravityMean)    -0.993425   \n",
       "39225     tGravityAcc-arCoeff()-Z,3   tGravityAcc-arCoeff()-Z,4    -0.994267   \n",
       "38739     tGravityAcc-arCoeff()-Z,2   tGravityAcc-arCoeff()-Z,3    -0.994628   \n",
       "23176          tGravityAcc-mean()-Z        angle(Z,gravityMean)    -0.994764   \n",
       "38252     tGravityAcc-arCoeff()-Z,1   tGravityAcc-arCoeff()-Z,2    -0.995195   \n",
       "\n",
       "        abs_correlation  \n",
       "156894         1.000000  \n",
       "93902          1.000000  \n",
       "101139         1.000000  \n",
       "96706          1.000000  \n",
       "94257          1.000000  \n",
       "...                 ...  \n",
       "22657          0.993425  \n",
       "39225          0.994267  \n",
       "38739          0.994628  \n",
       "23176          0.994764  \n",
       "38252          0.995195  \n",
       "\n",
       "[22815 rows x 4 columns]"
      ]
     },
     "execution_count": 18,
     "metadata": {},
     "output_type": "execute_result"
    }
   ],
   "source": [
    "# The most highly correlated values\n",
    "corr_values.sort_values('correlation', ascending=False).query('abs_correlation>0.8')\n",
    "### END SOLUTION"
   ]
  },
  {
   "cell_type": "markdown",
   "metadata": {},
   "source": [
    "## Question 3\n",
    "\n",
    "*   Split the data into train and test data sets. This can be done using any method, but consider using Scikit-learn's `StratifiedShuffleSplit` to maintain the same ratio of predictor classes.\n",
    "*   Regardless of the method used to split the data, compare the ratio of classes in both the train and test splits.\n"
   ]
  },
  {
   "cell_type": "code",
   "execution_count": 19,
   "metadata": {
    "collapsed": false,
    "jupyter": {
     "outputs_hidden": false
    }
   },
   "outputs": [],
   "source": [
    "### BEGIN SOLUTION\n",
    "from sklearn.model_selection import StratifiedShuffleSplit\n",
    "\n",
    "# Get the split indexes\n",
    "strat_shuf_split = StratifiedShuffleSplit(n_splits=1, \n",
    "                                          test_size=0.3, \n",
    "                                          random_state=42)\n",
    "\n",
    "train_idx, test_idx = next(strat_shuf_split.split(data[feature_cols], data.Activity))\n",
    "\n",
    "# Create the dataframes\n",
    "X_train = data.loc[train_idx, feature_cols]\n",
    "y_train = data.loc[train_idx, 'Activity']\n",
    "\n",
    "X_test  = data.loc[test_idx, feature_cols]\n",
    "y_test  = data.loc[test_idx, 'Activity']"
   ]
  },
  {
   "cell_type": "code",
   "execution_count": 20,
   "metadata": {
    "collapsed": false,
    "jupyter": {
     "outputs_hidden": false
    }
   },
   "outputs": [
    {
     "data": {
      "text/plain": [
       "0    0.188792\n",
       "2    0.185046\n",
       "1    0.172562\n",
       "3    0.167152\n",
       "5    0.149951\n",
       "4    0.136496\n",
       "Name: Activity, dtype: float64"
      ]
     },
     "execution_count": 20,
     "metadata": {},
     "output_type": "execute_result"
    }
   ],
   "source": [
    "y_train.value_counts(normalize=True)"
   ]
  },
  {
   "cell_type": "code",
   "execution_count": 21,
   "metadata": {
    "collapsed": false,
    "jupyter": {
     "outputs_hidden": false
    }
   },
   "outputs": [
    {
     "data": {
      "text/plain": [
       "0    0.188673\n",
       "2    0.185113\n",
       "1    0.172492\n",
       "3    0.167314\n",
       "5    0.149838\n",
       "4    0.136570\n",
       "Name: Activity, dtype: float64"
      ]
     },
     "execution_count": 21,
     "metadata": {},
     "output_type": "execute_result"
    }
   ],
   "source": [
    "y_test.value_counts(normalize=True)\n",
    "### END SOLUTION"
   ]
  },
  {
   "cell_type": "markdown",
   "metadata": {},
   "source": [
    "## Question 4\n",
    "\n",
    "*   Fit a logistic regression model without any regularization using all of the features. Be sure to read the documentation about fitting a multi-class model so you understand the coefficient output. Store the model.\n",
    "*   Using cross validation to determine the hyperparameters and fit models using L1 and L2 regularization. Store each of these models as well. Note the limitations on multi-class models, solvers, and regularizations. The regularized models, in particular the L1 model, will probably take a while to fit.\n"
   ]
  },
  {
   "cell_type": "code",
   "execution_count": 22,
   "metadata": {
    "collapsed": false,
    "jupyter": {
     "outputs_hidden": false
    }
   },
   "outputs": [],
   "source": [
    "### BEGIN SOLUTION\n",
    "from sklearn.linear_model import LogisticRegression\n",
    "\n",
    "# Standard logistic regression\n",
    "lr = LogisticRegression(solver='liblinear').fit(X_train, y_train)"
   ]
  },
  {
   "cell_type": "code",
   "execution_count": 23,
   "metadata": {
    "collapsed": false,
    "jupyter": {
     "outputs_hidden": false
    }
   },
   "outputs": [],
   "source": [
    "from sklearn.linear_model import LogisticRegressionCV\n",
    "\n",
    "# L1 regularized logistic regression\n",
    "lr_l1 = LogisticRegressionCV(Cs=10, cv=4, penalty='l1', solver='liblinear').fit(X_train, y_train)"
   ]
  },
  {
   "cell_type": "code",
   "execution_count": 24,
   "metadata": {},
   "outputs": [],
   "source": [
    "# L2 regularized logistic regression\n",
    "lr_l2 = LogisticRegressionCV(Cs=10, cv=4, penalty='l2', solver='liblinear').fit(X_train, y_train)\n",
    "### END SOLUTION"
   ]
  },
  {
   "cell_type": "markdown",
   "metadata": {},
   "source": [
    "## Question 5\n",
    "\n",
    "*   Compare the magnitudes of the coefficients for each of the models. If one-vs-rest fitting was used, each set of coefficients can be plotted separately.\n"
   ]
  },
  {
   "cell_type": "code",
   "execution_count": 26,
   "metadata": {
    "collapsed": false,
    "jupyter": {
     "outputs_hidden": false
    }
   },
   "outputs": [
    {
     "data": {
      "text/html": [
       "<div>\n",
       "<style scoped>\n",
       "    .dataframe tbody tr th:only-of-type {\n",
       "        vertical-align: middle;\n",
       "    }\n",
       "\n",
       "    .dataframe tbody tr th {\n",
       "        vertical-align: top;\n",
       "    }\n",
       "\n",
       "    .dataframe thead tr th {\n",
       "        text-align: left;\n",
       "    }\n",
       "</style>\n",
       "<table border=\"1\" class=\"dataframe\">\n",
       "  <thead>\n",
       "    <tr>\n",
       "      <th></th>\n",
       "      <th colspan=\"6\" halign=\"left\">lr</th>\n",
       "      <th colspan=\"6\" halign=\"left\">l1</th>\n",
       "      <th colspan=\"6\" halign=\"left\">l2</th>\n",
       "    </tr>\n",
       "    <tr>\n",
       "      <th></th>\n",
       "      <th>0</th>\n",
       "      <th>1</th>\n",
       "      <th>2</th>\n",
       "      <th>3</th>\n",
       "      <th>4</th>\n",
       "      <th>5</th>\n",
       "      <th>0</th>\n",
       "      <th>1</th>\n",
       "      <th>2</th>\n",
       "      <th>3</th>\n",
       "      <th>4</th>\n",
       "      <th>5</th>\n",
       "      <th>0</th>\n",
       "      <th>1</th>\n",
       "      <th>2</th>\n",
       "      <th>3</th>\n",
       "      <th>4</th>\n",
       "      <th>5</th>\n",
       "    </tr>\n",
       "  </thead>\n",
       "  <tbody>\n",
       "    <tr>\n",
       "      <th>547</th>\n",
       "      <td>-0.002358</td>\n",
       "      <td>0.209728</td>\n",
       "      <td>0.180707</td>\n",
       "      <td>-0.033786</td>\n",
       "      <td>0.022704</td>\n",
       "      <td>0.197672</td>\n",
       "      <td>0.00000</td>\n",
       "      <td>0.001664</td>\n",
       "      <td>0.000000</td>\n",
       "      <td>0.000000</td>\n",
       "      <td>0.000000</td>\n",
       "      <td>0.125486</td>\n",
       "      <td>-0.025889</td>\n",
       "      <td>0.634695</td>\n",
       "      <td>0.188019</td>\n",
       "      <td>-0.139738</td>\n",
       "      <td>-0.039576</td>\n",
       "      <td>0.565673</td>\n",
       "    </tr>\n",
       "    <tr>\n",
       "      <th>204</th>\n",
       "      <td>-0.022679</td>\n",
       "      <td>-0.019094</td>\n",
       "      <td>0.041115</td>\n",
       "      <td>0.509279</td>\n",
       "      <td>-0.106082</td>\n",
       "      <td>0.355072</td>\n",
       "      <td>0.00000</td>\n",
       "      <td>0.000000</td>\n",
       "      <td>0.000000</td>\n",
       "      <td>1.222581</td>\n",
       "      <td>0.115917</td>\n",
       "      <td>0.609103</td>\n",
       "      <td>-0.036959</td>\n",
       "      <td>-0.141070</td>\n",
       "      <td>0.061266</td>\n",
       "      <td>1.203662</td>\n",
       "      <td>0.033412</td>\n",
       "      <td>0.660372</td>\n",
       "    </tr>\n",
       "    <tr>\n",
       "      <th>94</th>\n",
       "      <td>0.030394</td>\n",
       "      <td>0.062221</td>\n",
       "      <td>0.302152</td>\n",
       "      <td>-0.762586</td>\n",
       "      <td>0.318511</td>\n",
       "      <td>0.115725</td>\n",
       "      <td>0.00000</td>\n",
       "      <td>0.000000</td>\n",
       "      <td>0.000000</td>\n",
       "      <td>-1.515695</td>\n",
       "      <td>0.442800</td>\n",
       "      <td>0.300528</td>\n",
       "      <td>0.052901</td>\n",
       "      <td>-0.631602</td>\n",
       "      <td>0.522402</td>\n",
       "      <td>-2.433192</td>\n",
       "      <td>0.891996</td>\n",
       "      <td>0.339071</td>\n",
       "    </tr>\n",
       "    <tr>\n",
       "      <th>353</th>\n",
       "      <td>-0.054494</td>\n",
       "      <td>-0.184109</td>\n",
       "      <td>-0.196497</td>\n",
       "      <td>0.411160</td>\n",
       "      <td>-0.382683</td>\n",
       "      <td>-0.403913</td>\n",
       "      <td>0.00000</td>\n",
       "      <td>0.000000</td>\n",
       "      <td>0.000000</td>\n",
       "      <td>0.460434</td>\n",
       "      <td>-0.420330</td>\n",
       "      <td>-1.176382</td>\n",
       "      <td>-0.097967</td>\n",
       "      <td>-0.463297</td>\n",
       "      <td>-0.275697</td>\n",
       "      <td>1.169755</td>\n",
       "      <td>-0.911139</td>\n",
       "      <td>-1.235379</td>\n",
       "    </tr>\n",
       "    <tr>\n",
       "      <th>445</th>\n",
       "      <td>0.260750</td>\n",
       "      <td>-3.782020</td>\n",
       "      <td>3.475456</td>\n",
       "      <td>0.143151</td>\n",
       "      <td>-0.286184</td>\n",
       "      <td>0.906774</td>\n",
       "      <td>0.26794</td>\n",
       "      <td>-5.227303</td>\n",
       "      <td>4.532962</td>\n",
       "      <td>0.016076</td>\n",
       "      <td>0.000000</td>\n",
       "      <td>2.470040</td>\n",
       "      <td>0.544779</td>\n",
       "      <td>-5.555820</td>\n",
       "      <td>4.570711</td>\n",
       "      <td>0.167857</td>\n",
       "      <td>-0.442174</td>\n",
       "      <td>2.057849</td>\n",
       "    </tr>\n",
       "    <tr>\n",
       "      <th>241</th>\n",
       "      <td>0.001621</td>\n",
       "      <td>0.375170</td>\n",
       "      <td>-0.345912</td>\n",
       "      <td>0.031882</td>\n",
       "      <td>-0.061431</td>\n",
       "      <td>-0.314182</td>\n",
       "      <td>0.00000</td>\n",
       "      <td>0.000000</td>\n",
       "      <td>0.000000</td>\n",
       "      <td>0.000000</td>\n",
       "      <td>0.000000</td>\n",
       "      <td>-1.208823</td>\n",
       "      <td>0.024554</td>\n",
       "      <td>0.954148</td>\n",
       "      <td>-0.577124</td>\n",
       "      <td>0.111986</td>\n",
       "      <td>-0.073228</td>\n",
       "      <td>-0.475096</td>\n",
       "    </tr>\n",
       "    <tr>\n",
       "      <th>317</th>\n",
       "      <td>-0.024262</td>\n",
       "      <td>0.070896</td>\n",
       "      <td>-0.009851</td>\n",
       "      <td>0.464238</td>\n",
       "      <td>0.142857</td>\n",
       "      <td>-0.669523</td>\n",
       "      <td>0.00000</td>\n",
       "      <td>0.000000</td>\n",
       "      <td>0.000000</td>\n",
       "      <td>0.408462</td>\n",
       "      <td>0.000000</td>\n",
       "      <td>-0.886938</td>\n",
       "      <td>-0.059729</td>\n",
       "      <td>-0.066823</td>\n",
       "      <td>-0.010818</td>\n",
       "      <td>1.113850</td>\n",
       "      <td>0.415976</td>\n",
       "      <td>-1.366293</td>\n",
       "    </tr>\n",
       "    <tr>\n",
       "      <th>251</th>\n",
       "      <td>-0.118256</td>\n",
       "      <td>0.436478</td>\n",
       "      <td>-0.313127</td>\n",
       "      <td>0.470810</td>\n",
       "      <td>-0.513159</td>\n",
       "      <td>-0.120135</td>\n",
       "      <td>0.00000</td>\n",
       "      <td>0.714418</td>\n",
       "      <td>-0.634336</td>\n",
       "      <td>2.236995</td>\n",
       "      <td>-1.477539</td>\n",
       "      <td>-0.833637</td>\n",
       "      <td>-0.237774</td>\n",
       "      <td>1.108369</td>\n",
       "      <td>-0.645531</td>\n",
       "      <td>1.450966</td>\n",
       "      <td>-1.004918</td>\n",
       "      <td>-0.586800</td>\n",
       "    </tr>\n",
       "    <tr>\n",
       "      <th>156</th>\n",
       "      <td>0.158619</td>\n",
       "      <td>-1.055557</td>\n",
       "      <td>0.662775</td>\n",
       "      <td>0.586389</td>\n",
       "      <td>-0.450626</td>\n",
       "      <td>-1.521089</td>\n",
       "      <td>0.00000</td>\n",
       "      <td>-3.468520</td>\n",
       "      <td>2.269602</td>\n",
       "      <td>1.004942</td>\n",
       "      <td>-0.783721</td>\n",
       "      <td>-5.889360</td>\n",
       "      <td>0.342318</td>\n",
       "      <td>-4.072822</td>\n",
       "      <td>1.415368</td>\n",
       "      <td>1.044691</td>\n",
       "      <td>-0.863424</td>\n",
       "      <td>-3.487669</td>\n",
       "    </tr>\n",
       "    <tr>\n",
       "      <th>224</th>\n",
       "      <td>-0.005534</td>\n",
       "      <td>0.135921</td>\n",
       "      <td>-0.137265</td>\n",
       "      <td>-0.401044</td>\n",
       "      <td>0.180211</td>\n",
       "      <td>0.159214</td>\n",
       "      <td>0.00000</td>\n",
       "      <td>0.000000</td>\n",
       "      <td>0.000000</td>\n",
       "      <td>-1.928199</td>\n",
       "      <td>0.214975</td>\n",
       "      <td>0.332585</td>\n",
       "      <td>-0.024189</td>\n",
       "      <td>0.429061</td>\n",
       "      <td>-0.175778</td>\n",
       "      <td>-1.303381</td>\n",
       "      <td>0.392188</td>\n",
       "      <td>0.593316</td>\n",
       "    </tr>\n",
       "  </tbody>\n",
       "</table>\n",
       "</div>"
      ],
      "text/plain": [
       "           lr                                                         l1  \\\n",
       "            0         1         2         3         4         5        0   \n",
       "547 -0.002358  0.209728  0.180707 -0.033786  0.022704  0.197672  0.00000   \n",
       "204 -0.022679 -0.019094  0.041115  0.509279 -0.106082  0.355072  0.00000   \n",
       "94   0.030394  0.062221  0.302152 -0.762586  0.318511  0.115725  0.00000   \n",
       "353 -0.054494 -0.184109 -0.196497  0.411160 -0.382683 -0.403913  0.00000   \n",
       "445  0.260750 -3.782020  3.475456  0.143151 -0.286184  0.906774  0.26794   \n",
       "241  0.001621  0.375170 -0.345912  0.031882 -0.061431 -0.314182  0.00000   \n",
       "317 -0.024262  0.070896 -0.009851  0.464238  0.142857 -0.669523  0.00000   \n",
       "251 -0.118256  0.436478 -0.313127  0.470810 -0.513159 -0.120135  0.00000   \n",
       "156  0.158619 -1.055557  0.662775  0.586389 -0.450626 -1.521089  0.00000   \n",
       "224 -0.005534  0.135921 -0.137265 -0.401044  0.180211  0.159214  0.00000   \n",
       "\n",
       "                                                             l2            \\\n",
       "            1         2         3         4         5         0         1   \n",
       "547  0.001664  0.000000  0.000000  0.000000  0.125486 -0.025889  0.634695   \n",
       "204  0.000000  0.000000  1.222581  0.115917  0.609103 -0.036959 -0.141070   \n",
       "94   0.000000  0.000000 -1.515695  0.442800  0.300528  0.052901 -0.631602   \n",
       "353  0.000000  0.000000  0.460434 -0.420330 -1.176382 -0.097967 -0.463297   \n",
       "445 -5.227303  4.532962  0.016076  0.000000  2.470040  0.544779 -5.555820   \n",
       "241  0.000000  0.000000  0.000000  0.000000 -1.208823  0.024554  0.954148   \n",
       "317  0.000000  0.000000  0.408462  0.000000 -0.886938 -0.059729 -0.066823   \n",
       "251  0.714418 -0.634336  2.236995 -1.477539 -0.833637 -0.237774  1.108369   \n",
       "156 -3.468520  2.269602  1.004942 -0.783721 -5.889360  0.342318 -4.072822   \n",
       "224  0.000000  0.000000 -1.928199  0.214975  0.332585 -0.024189  0.429061   \n",
       "\n",
       "                                             \n",
       "            2         3         4         5  \n",
       "547  0.188019 -0.139738 -0.039576  0.565673  \n",
       "204  0.061266  1.203662  0.033412  0.660372  \n",
       "94   0.522402 -2.433192  0.891996  0.339071  \n",
       "353 -0.275697  1.169755 -0.911139 -1.235379  \n",
       "445  4.570711  0.167857 -0.442174  2.057849  \n",
       "241 -0.577124  0.111986 -0.073228 -0.475096  \n",
       "317 -0.010818  1.113850  0.415976 -1.366293  \n",
       "251 -0.645531  1.450966 -1.004918 -0.586800  \n",
       "156  1.415368  1.044691 -0.863424 -3.487669  \n",
       "224 -0.175778 -1.303381  0.392188  0.593316  "
      ]
     },
     "execution_count": 26,
     "metadata": {},
     "output_type": "execute_result"
    }
   ],
   "source": [
    "### BEGIN SOLUTION\n",
    "# Combine all the coefficients into a dataframe\n",
    "coefficients = list()\n",
    "\n",
    "coeff_labels = ['lr', 'l1', 'l2']\n",
    "coeff_models = [lr, lr_l1, lr_l2]\n",
    "\n",
    "for lab,mod in zip(coeff_labels, coeff_models):\n",
    "    coeffs = mod.coef_\n",
    "    coeff_label = pd.MultiIndex(levels=[[lab], [0,1,2,3,4,5]], \n",
    "                                 codes=[[0,0,0,0,0,0], [0,1,2,3,4,5]])\n",
    "    coefficients.append(pd.DataFrame(coeffs.T, columns=coeff_label))\n",
    "\n",
    "coefficients = pd.concat(coefficients, axis=1)\n",
    "\n",
    "coefficients.sample(10)"
   ]
  },
  {
   "cell_type": "markdown",
   "metadata": {},
   "source": [
    "Prepare six separate plots for each of the multi-class coefficients.\n"
   ]
  },
  {
   "cell_type": "code",
   "execution_count": 30,
   "metadata": {
    "collapsed": false,
    "jupyter": {
     "outputs_hidden": false
    }
   },
   "outputs": [
    {
     "data": {
      "image/png": "[encoded data removed]",
      "text/plain": [
       "<Figure size 1000x1000 with 6 Axes>"
      ]
     },
     "metadata": {},
     "output_type": "display_data"
    }
   ],
   "source": [
    "fig, axList = plt.subplots(nrows=3, ncols=2)\n",
    "axList = axList.flatten()\n",
    "fig.set_size_inches(10,10)\n",
    "\n",
    "for ax in enumerate(axList):\n",
    "    loc = ax[0]\n",
    "    ax = ax[1]\n",
    "    \n",
    "    data = coefficients.xs(loc, level=1, axis=1)\n",
    "    data.plot(marker='o', ls='', ms=2.0, ax=ax, legend=False)\n",
    "    \n",
    "    if ax is axList[0]:\n",
    "        ax.legend(loc=4)\n",
    "        \n",
    "    ax.set(title='Coefficient Set '+str(loc))\n",
    "\n",
    "plt.tight_layout()\n",
    "### END SOLUTION"
   ]
  },
  {
   "cell_type": "markdown",
   "metadata": {},
   "source": [
    "## Question 6\n",
    "\n",
    "*   Predict and store the class for each model.\n",
    "*   Store the probability for the predicted class for each model.\n"
   ]
  },
  {
   "cell_type": "code",
   "execution_count": 31,
   "metadata": {
    "collapsed": false,
    "jupyter": {
     "outputs_hidden": false
    }
   },
   "outputs": [
    {
     "data": {
      "text/html": [
       "<div>\n",
       "<style scoped>\n",
       "    .dataframe tbody tr th:only-of-type {\n",
       "        vertical-align: middle;\n",
       "    }\n",
       "\n",
       "    .dataframe tbody tr th {\n",
       "        vertical-align: top;\n",
       "    }\n",
       "\n",
       "    .dataframe thead th {\n",
       "        text-align: right;\n",
       "    }\n",
       "</style>\n",
       "<table border=\"1\" class=\"dataframe\">\n",
       "  <thead>\n",
       "    <tr style=\"text-align: right;\">\n",
       "      <th></th>\n",
       "      <th>lr</th>\n",
       "      <th>l1</th>\n",
       "      <th>l2</th>\n",
       "    </tr>\n",
       "  </thead>\n",
       "  <tbody>\n",
       "    <tr>\n",
       "      <th>0</th>\n",
       "      <td>3</td>\n",
       "      <td>3</td>\n",
       "      <td>3</td>\n",
       "    </tr>\n",
       "    <tr>\n",
       "      <th>1</th>\n",
       "      <td>5</td>\n",
       "      <td>5</td>\n",
       "      <td>5</td>\n",
       "    </tr>\n",
       "    <tr>\n",
       "      <th>2</th>\n",
       "      <td>3</td>\n",
       "      <td>3</td>\n",
       "      <td>3</td>\n",
       "    </tr>\n",
       "    <tr>\n",
       "      <th>3</th>\n",
       "      <td>1</td>\n",
       "      <td>1</td>\n",
       "      <td>1</td>\n",
       "    </tr>\n",
       "    <tr>\n",
       "      <th>4</th>\n",
       "      <td>0</td>\n",
       "      <td>0</td>\n",
       "      <td>0</td>\n",
       "    </tr>\n",
       "  </tbody>\n",
       "</table>\n",
       "</div>"
      ],
      "text/plain": [
       "   lr  l1  l2\n",
       "0   3   3   3\n",
       "1   5   5   5\n",
       "2   3   3   3\n",
       "3   1   1   1\n",
       "4   0   0   0"
      ]
     },
     "execution_count": 31,
     "metadata": {},
     "output_type": "execute_result"
    }
   ],
   "source": [
    "### BEGIN SOLUTION\n",
    "# Predict the class and the probability for each\n",
    "y_pred = list()\n",
    "y_prob = list()\n",
    "\n",
    "coeff_labels = ['lr', 'l1', 'l2']\n",
    "coeff_models = [lr, lr_l1, lr_l2]\n",
    "\n",
    "for lab,mod in zip(coeff_labels, coeff_models):\n",
    "    y_pred.append(pd.Series(mod.predict(X_test), name=lab))\n",
    "    y_prob.append(pd.Series(mod.predict_proba(X_test).max(axis=1), name=lab))\n",
    "    \n",
    "y_pred = pd.concat(y_pred, axis=1)\n",
    "y_prob = pd.concat(y_prob, axis=1)\n",
    "\n",
    "y_pred.head()"
   ]
  },
  {
   "cell_type": "code",
   "execution_count": 32,
   "metadata": {
    "collapsed": false,
    "jupyter": {
     "outputs_hidden": false
    }
   },
   "outputs": [
    {
     "data": {
      "text/html": [
       "<div>\n",
       "<style scoped>\n",
       "    .dataframe tbody tr th:only-of-type {\n",
       "        vertical-align: middle;\n",
       "    }\n",
       "\n",
       "    .dataframe tbody tr th {\n",
       "        vertical-align: top;\n",
       "    }\n",
       "\n",
       "    .dataframe thead th {\n",
       "        text-align: right;\n",
       "    }\n",
       "</style>\n",
       "<table border=\"1\" class=\"dataframe\">\n",
       "  <thead>\n",
       "    <tr style=\"text-align: right;\">\n",
       "      <th></th>\n",
       "      <th>lr</th>\n",
       "      <th>l1</th>\n",
       "      <th>l2</th>\n",
       "    </tr>\n",
       "  </thead>\n",
       "  <tbody>\n",
       "    <tr>\n",
       "      <th>0</th>\n",
       "      <td>0.998939</td>\n",
       "      <td>0.998912</td>\n",
       "      <td>0.999757</td>\n",
       "    </tr>\n",
       "    <tr>\n",
       "      <th>1</th>\n",
       "      <td>0.988165</td>\n",
       "      <td>0.999615</td>\n",
       "      <td>0.999477</td>\n",
       "    </tr>\n",
       "    <tr>\n",
       "      <th>2</th>\n",
       "      <td>0.987592</td>\n",
       "      <td>0.995488</td>\n",
       "      <td>0.999670</td>\n",
       "    </tr>\n",
       "    <tr>\n",
       "      <th>3</th>\n",
       "      <td>0.981381</td>\n",
       "      <td>0.999195</td>\n",
       "      <td>0.994337</td>\n",
       "    </tr>\n",
       "    <tr>\n",
       "      <th>4</th>\n",
       "      <td>0.998277</td>\n",
       "      <td>0.999922</td>\n",
       "      <td>0.999997</td>\n",
       "    </tr>\n",
       "  </tbody>\n",
       "</table>\n",
       "</div>"
      ],
      "text/plain": [
       "         lr        l1        l2\n",
       "0  0.998939  0.998912  0.999757\n",
       "1  0.988165  0.999615  0.999477\n",
       "2  0.987592  0.995488  0.999670\n",
       "3  0.981381  0.999195  0.994337\n",
       "4  0.998277  0.999922  0.999997"
      ]
     },
     "execution_count": 32,
     "metadata": {},
     "output_type": "execute_result"
    }
   ],
   "source": [
    "y_prob.head()\n",
    "### END SOLUTION"
   ]
  },
  {
   "cell_type": "markdown",
   "metadata": {},
   "source": [
    "## Question 7\n",
    "\n",
    "For each model, calculate the following error metrics:\n",
    "\n",
    "*   Accuracy\n",
    "*   Precision\n",
    "*   Recall\n",
    "*   F-score\n",
    "*   Confusion Matrix\n",
    "\n",
    "Decide how to combine the multi-class metrics into a single value for each model.\n"
   ]
  },
  {
   "cell_type": "code",
   "execution_count": 33,
   "metadata": {
    "collapsed": false,
    "jupyter": {
     "outputs_hidden": false
    }
   },
   "outputs": [],
   "source": [
    "### BEGIN SOLUTION\n",
    "from sklearn.metrics import precision_recall_fscore_support as score\n",
    "from sklearn.metrics import confusion_matrix, accuracy_score, roc_auc_score\n",
    "from sklearn.preprocessing import label_binarize\n",
    "\n",
    "metrics = list()\n",
    "cm = dict()\n",
    "\n",
    "for lab in coeff_labels:\n",
    "\n",
    "    # Preciision, recall, f-score from the multi-class support function\n",
    "    precision, recall, fscore, _ = score(y_test, y_pred[lab], average='weighted')\n",
    "    \n",
    "    # The usual way to calculate accuracy\n",
    "    accuracy = accuracy_score(y_test, y_pred[lab])\n",
    "    \n",
    "    # ROC-AUC scores can be calculated by binarizing the data\n",
    "    auc = roc_auc_score(label_binarize(y_test, classes=[0,1,2,3,4,5]),\n",
    "              label_binarize(y_pred[lab], classes=[0,1,2,3,4,5]), \n",
    "              average='weighted')\n",
    "    \n",
    "    # Last, the confusion matrix\n",
    "    cm[lab] = confusion_matrix(y_test, y_pred[lab])\n",
    "    \n",
    "    metrics.append(pd.Series({'precision':precision, 'recall':recall, \n",
    "                              'fscore':fscore, 'accuracy':accuracy,\n",
    "                              'auc':auc}, \n",
    "                             name=lab))\n",
    "\n",
    "metrics = pd.concat(metrics, axis=1)"
   ]
  },
  {
   "cell_type": "code",
   "execution_count": 34,
   "metadata": {
    "collapsed": false,
    "jupyter": {
     "outputs_hidden": false
    }
   },
   "outputs": [
    {
     "data": {
      "text/html": [
       "<div>\n",
       "<style scoped>\n",
       "    .dataframe tbody tr th:only-of-type {\n",
       "        vertical-align: middle;\n",
       "    }\n",
       "\n",
       "    .dataframe tbody tr th {\n",
       "        vertical-align: top;\n",
       "    }\n",
       "\n",
       "    .dataframe thead th {\n",
       "        text-align: right;\n",
       "    }\n",
       "</style>\n",
       "<table border=\"1\" class=\"dataframe\">\n",
       "  <thead>\n",
       "    <tr style=\"text-align: right;\">\n",
       "      <th></th>\n",
       "      <th>lr</th>\n",
       "      <th>l1</th>\n",
       "      <th>l2</th>\n",
       "    </tr>\n",
       "  </thead>\n",
       "  <tbody>\n",
       "    <tr>\n",
       "      <th>precision</th>\n",
       "      <td>0.984144</td>\n",
       "      <td>0.984153</td>\n",
       "      <td>0.983824</td>\n",
       "    </tr>\n",
       "    <tr>\n",
       "      <th>recall</th>\n",
       "      <td>0.984142</td>\n",
       "      <td>0.984142</td>\n",
       "      <td>0.983819</td>\n",
       "    </tr>\n",
       "    <tr>\n",
       "      <th>fscore</th>\n",
       "      <td>0.984143</td>\n",
       "      <td>0.984140</td>\n",
       "      <td>0.983819</td>\n",
       "    </tr>\n",
       "    <tr>\n",
       "      <th>accuracy</th>\n",
       "      <td>0.984142</td>\n",
       "      <td>0.984142</td>\n",
       "      <td>0.983819</td>\n",
       "    </tr>\n",
       "    <tr>\n",
       "      <th>auc</th>\n",
       "      <td>0.990384</td>\n",
       "      <td>0.990342</td>\n",
       "      <td>0.990165</td>\n",
       "    </tr>\n",
       "  </tbody>\n",
       "</table>\n",
       "</div>"
      ],
      "text/plain": [
       "                 lr        l1        l2\n",
       "precision  0.984144  0.984153  0.983824\n",
       "recall     0.984142  0.984142  0.983819\n",
       "fscore     0.984143  0.984140  0.983819\n",
       "accuracy   0.984142  0.984142  0.983819\n",
       "auc        0.990384  0.990342  0.990165"
      ]
     },
     "execution_count": 34,
     "metadata": {},
     "output_type": "execute_result"
    }
   ],
   "source": [
    "metrics\n",
    "### END SOLUTION"
   ]
  },
  {
   "cell_type": "markdown",
   "metadata": {},
   "source": [
    "## Question 8\n",
    "\n",
    "*   Display or plot the confusion matrix for each model.\n"
   ]
  },
  {
   "cell_type": "code",
   "execution_count": 35,
   "metadata": {
    "collapsed": false,
    "jupyter": {
     "outputs_hidden": false
    }
   },
   "outputs": [
    {
     "data": {
      "image/png": "[encoded data removed]",
      "text/plain": [
       "<Figure size 1200x1000 with 7 Axes>"
      ]
     },
     "metadata": {},
     "output_type": "display_data"
    }
   ],
   "source": [
    "### BEGIN SOLUTION\n",
    "fig, axList = plt.subplots(nrows=2, ncols=2)\n",
    "axList = axList.flatten()\n",
    "fig.set_size_inches(12, 10)\n",
    "\n",
    "axList[-1].axis('off')\n",
    "\n",
    "for ax,lab in zip(axList[:-1], coeff_labels):\n",
    "    sns.heatmap(cm[lab], ax=ax, annot=True, fmt='d');\n",
    "    ax.set(title=lab);\n",
    "    \n",
    "plt.tight_layout()\n",
    "### END SOLUTION"
   ]
  },
  {
   "cell_type": "markdown",
   "metadata": {},
   "source": [
    "***\n",
    "\n",
    "### Machine Learning Foundation (C) 2020 IBM Corporation\n"
   ]
  }
 ],
 "metadata": {
  "kernelspec": {
   "display_name": "Python 3 (ipykernel)",
   "language": "python",
   "name": "python3"
  },
  "language_info": {
   "codemirror_mode": {
    "name": "ipython",
    "version": 3
   },
   "file_extension": ".py",
   "mimetype": "text/x-python",
   "name": "python",
   "nbconvert_exporter": "python",
   "pygments_lexer": "ipython3",
   "version": "3.10.9"
  }
 },
 "nbformat": 4,
 "nbformat_minor": 4
}
